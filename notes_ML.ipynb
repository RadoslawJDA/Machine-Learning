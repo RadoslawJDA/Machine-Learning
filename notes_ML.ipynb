{
  "nbformat": 4,
  "nbformat_minor": 0,
  "metadata": {
    "colab": {
      "provenance": [],
      "authorship_tag": "ABX9TyNRvTjkFWFo/mF0XM5X+IFk"
    },
    "kernelspec": {
      "name": "python3",
      "display_name": "Python 3"
    },
    "language_info": {
      "name": "python"
    }
  },
  "cells": [
    {
      "cell_type": "markdown",
      "source": [
        "ML STEPS:\n",
        "1. The Problem\n",
        "2. Data Collection\n",
        "3. Data Cleaning\n",
        "4. Data Selection\n",
        "5. Pick a model\n",
        "6. Train model\n",
        "7. Test model\n",
        "8. REPEAT"
      ],
      "metadata": {
        "id": "2Haf1lT4LioN"
      }
    },
    {
      "cell_type": "markdown",
      "source": [
        "Getting started:\n",
        "- Linear regression\n",
        "- KNN (k-nearest-neighbours)\n",
        "- SVM ()\n",
        "\n",
        "https://www.youtube.com/watch?v=ujTCoH21GlA&list=PLzMcBGfZo4-mP7qA9cagf68V06sko5otr"
      ],
      "metadata": {
        "id": "YdLdjMCcLkl9"
      }
    }
  ]
}