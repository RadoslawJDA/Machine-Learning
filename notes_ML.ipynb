{
  "nbformat": 4,
  "nbformat_minor": 0,
  "metadata": {
    "colab": {
      "provenance": [],
      "mount_file_id": "1OXNdOwSoycDhn55eyRx4WNX2pSbfu6nl",
      "authorship_tag": "ABX9TyPcjQn0SqaD44i7RD6hEU/q"
    },
    "kernelspec": {
      "name": "python3",
      "display_name": "Python 3"
    },
    "language_info": {
      "name": "python"
    }
  },
  "cells": [
    {
      "cell_type": "markdown",
      "source": [
        "ML STEPS:\n",
        "1. The Problem\n",
        "2. Data Collection\n",
        "3. Data Cleaning\n",
        "4. Data Selection\n",
        "5. Pick a model\n",
        "6. Train model\n",
        "7. Test model\n",
        "8. REPEAT"
      ],
      "metadata": {
        "id": "2Haf1lT4LioN"
      }
    },
    {
      "cell_type": "markdown",
      "source": [
        "Getting started:\n",
        "- Linear regression\n",
        "- KNN (k-nearest-neighbours)\n",
        "- SVM ()\n",
        "\n",
        "https://www.youtube.com/watch?v=ujTCoH21GlA&list=PLzMcBGfZo4-mP7qA9cagf68V06sko5otr"
      ],
      "metadata": {
        "id": "YdLdjMCcLkl9"
      }
    },
    {
      "cell_type": "code",
      "source": [
        "import numpy as np\n",
        "import pandas as pd\n",
        "from sklearn import linear_model\n",
        "import sklearn\n",
        "from sklearn.utils import shuffle\n",
        "import matplotlib.pyplot as plt\n",
        "from matplotlib import style\n",
        "import pickle"
      ],
      "metadata": {
        "id": "cjuHSaoV94Qe"
      },
      "execution_count": null,
      "outputs": []
    },
    {
      "cell_type": "code",
      "source": [
        "# Since our data is seperated by semicolons we need to do sep=\";\"\n",
        "data = pd.read_csv('/content/drive/MyDrive/colab_data/ML/1/student-mat.csv', sep=';')\n",
        "data.head()"
      ],
      "metadata": {
        "colab": {
          "base_uri": "https://localhost:8080/",
          "height": 279
        },
        "id": "I_FRxzip6kal",
        "outputId": "1002a429-8305-4427-d36c-a67882dc6e99"
      },
      "execution_count": null,
      "outputs": [
        {
          "output_type": "execute_result",
          "data": {
            "text/plain": [
              "  school sex  age address famsize Pstatus  Medu  Fedu     Mjob      Fjob  ...  \\\n",
              "0     GP   F   18       U     GT3       A     4     4  at_home   teacher  ...   \n",
              "1     GP   F   17       U     GT3       T     1     1  at_home     other  ...   \n",
              "2     GP   F   15       U     LE3       T     1     1  at_home     other  ...   \n",
              "3     GP   F   15       U     GT3       T     4     2   health  services  ...   \n",
              "4     GP   F   16       U     GT3       T     3     3    other     other  ...   \n",
              "\n",
              "  famrel freetime  goout  Dalc  Walc health absences  G1  G2  G3  \n",
              "0      4        3      4     1     1      3        6   5   6   6  \n",
              "1      5        3      3     1     1      3        4   5   5   6  \n",
              "2      4        3      2     2     3      3       10   7   8  10  \n",
              "3      3        2      2     1     1      5        2  15  14  15  \n",
              "4      4        3      2     1     2      5        4   6  10  10  \n",
              "\n",
              "[5 rows x 33 columns]"
            ],
            "text/html": [
              "\n",
              "  <div id=\"df-eb86471e-e0ee-4d01-9459-55df13052565\">\n",
              "    <div class=\"colab-df-container\">\n",
              "      <div>\n",
              "<style scoped>\n",
              "    .dataframe tbody tr th:only-of-type {\n",
              "        vertical-align: middle;\n",
              "    }\n",
              "\n",
              "    .dataframe tbody tr th {\n",
              "        vertical-align: top;\n",
              "    }\n",
              "\n",
              "    .dataframe thead th {\n",
              "        text-align: right;\n",
              "    }\n",
              "</style>\n",
              "<table border=\"1\" class=\"dataframe\">\n",
              "  <thead>\n",
              "    <tr style=\"text-align: right;\">\n",
              "      <th></th>\n",
              "      <th>school</th>\n",
              "      <th>sex</th>\n",
              "      <th>age</th>\n",
              "      <th>address</th>\n",
              "      <th>famsize</th>\n",
              "      <th>Pstatus</th>\n",
              "      <th>Medu</th>\n",
              "      <th>Fedu</th>\n",
              "      <th>Mjob</th>\n",
              "      <th>Fjob</th>\n",
              "      <th>...</th>\n",
              "      <th>famrel</th>\n",
              "      <th>freetime</th>\n",
              "      <th>goout</th>\n",
              "      <th>Dalc</th>\n",
              "      <th>Walc</th>\n",
              "      <th>health</th>\n",
              "      <th>absences</th>\n",
              "      <th>G1</th>\n",
              "      <th>G2</th>\n",
              "      <th>G3</th>\n",
              "    </tr>\n",
              "  </thead>\n",
              "  <tbody>\n",
              "    <tr>\n",
              "      <th>0</th>\n",
              "      <td>GP</td>\n",
              "      <td>F</td>\n",
              "      <td>18</td>\n",
              "      <td>U</td>\n",
              "      <td>GT3</td>\n",
              "      <td>A</td>\n",
              "      <td>4</td>\n",
              "      <td>4</td>\n",
              "      <td>at_home</td>\n",
              "      <td>teacher</td>\n",
              "      <td>...</td>\n",
              "      <td>4</td>\n",
              "      <td>3</td>\n",
              "      <td>4</td>\n",
              "      <td>1</td>\n",
              "      <td>1</td>\n",
              "      <td>3</td>\n",
              "      <td>6</td>\n",
              "      <td>5</td>\n",
              "      <td>6</td>\n",
              "      <td>6</td>\n",
              "    </tr>\n",
              "    <tr>\n",
              "      <th>1</th>\n",
              "      <td>GP</td>\n",
              "      <td>F</td>\n",
              "      <td>17</td>\n",
              "      <td>U</td>\n",
              "      <td>GT3</td>\n",
              "      <td>T</td>\n",
              "      <td>1</td>\n",
              "      <td>1</td>\n",
              "      <td>at_home</td>\n",
              "      <td>other</td>\n",
              "      <td>...</td>\n",
              "      <td>5</td>\n",
              "      <td>3</td>\n",
              "      <td>3</td>\n",
              "      <td>1</td>\n",
              "      <td>1</td>\n",
              "      <td>3</td>\n",
              "      <td>4</td>\n",
              "      <td>5</td>\n",
              "      <td>5</td>\n",
              "      <td>6</td>\n",
              "    </tr>\n",
              "    <tr>\n",
              "      <th>2</th>\n",
              "      <td>GP</td>\n",
              "      <td>F</td>\n",
              "      <td>15</td>\n",
              "      <td>U</td>\n",
              "      <td>LE3</td>\n",
              "      <td>T</td>\n",
              "      <td>1</td>\n",
              "      <td>1</td>\n",
              "      <td>at_home</td>\n",
              "      <td>other</td>\n",
              "      <td>...</td>\n",
              "      <td>4</td>\n",
              "      <td>3</td>\n",
              "      <td>2</td>\n",
              "      <td>2</td>\n",
              "      <td>3</td>\n",
              "      <td>3</td>\n",
              "      <td>10</td>\n",
              "      <td>7</td>\n",
              "      <td>8</td>\n",
              "      <td>10</td>\n",
              "    </tr>\n",
              "    <tr>\n",
              "      <th>3</th>\n",
              "      <td>GP</td>\n",
              "      <td>F</td>\n",
              "      <td>15</td>\n",
              "      <td>U</td>\n",
              "      <td>GT3</td>\n",
              "      <td>T</td>\n",
              "      <td>4</td>\n",
              "      <td>2</td>\n",
              "      <td>health</td>\n",
              "      <td>services</td>\n",
              "      <td>...</td>\n",
              "      <td>3</td>\n",
              "      <td>2</td>\n",
              "      <td>2</td>\n",
              "      <td>1</td>\n",
              "      <td>1</td>\n",
              "      <td>5</td>\n",
              "      <td>2</td>\n",
              "      <td>15</td>\n",
              "      <td>14</td>\n",
              "      <td>15</td>\n",
              "    </tr>\n",
              "    <tr>\n",
              "      <th>4</th>\n",
              "      <td>GP</td>\n",
              "      <td>F</td>\n",
              "      <td>16</td>\n",
              "      <td>U</td>\n",
              "      <td>GT3</td>\n",
              "      <td>T</td>\n",
              "      <td>3</td>\n",
              "      <td>3</td>\n",
              "      <td>other</td>\n",
              "      <td>other</td>\n",
              "      <td>...</td>\n",
              "      <td>4</td>\n",
              "      <td>3</td>\n",
              "      <td>2</td>\n",
              "      <td>1</td>\n",
              "      <td>2</td>\n",
              "      <td>5</td>\n",
              "      <td>4</td>\n",
              "      <td>6</td>\n",
              "      <td>10</td>\n",
              "      <td>10</td>\n",
              "    </tr>\n",
              "  </tbody>\n",
              "</table>\n",
              "<p>5 rows × 33 columns</p>\n",
              "</div>\n",
              "      <button class=\"colab-df-convert\" onclick=\"convertToInteractive('df-eb86471e-e0ee-4d01-9459-55df13052565')\"\n",
              "              title=\"Convert this dataframe to an interactive table.\"\n",
              "              style=\"display:none;\">\n",
              "        \n",
              "  <svg xmlns=\"http://www.w3.org/2000/svg\" height=\"24px\"viewBox=\"0 0 24 24\"\n",
              "       width=\"24px\">\n",
              "    <path d=\"M0 0h24v24H0V0z\" fill=\"none\"/>\n",
              "    <path d=\"M18.56 5.44l.94 2.06.94-2.06 2.06-.94-2.06-.94-.94-2.06-.94 2.06-2.06.94zm-11 1L8.5 8.5l.94-2.06 2.06-.94-2.06-.94L8.5 2.5l-.94 2.06-2.06.94zm10 10l.94 2.06.94-2.06 2.06-.94-2.06-.94-.94-2.06-.94 2.06-2.06.94z\"/><path d=\"M17.41 7.96l-1.37-1.37c-.4-.4-.92-.59-1.43-.59-.52 0-1.04.2-1.43.59L10.3 9.45l-7.72 7.72c-.78.78-.78 2.05 0 2.83L4 21.41c.39.39.9.59 1.41.59.51 0 1.02-.2 1.41-.59l7.78-7.78 2.81-2.81c.8-.78.8-2.07 0-2.86zM5.41 20L4 18.59l7.72-7.72 1.47 1.35L5.41 20z\"/>\n",
              "  </svg>\n",
              "      </button>\n",
              "      \n",
              "  <style>\n",
              "    .colab-df-container {\n",
              "      display:flex;\n",
              "      flex-wrap:wrap;\n",
              "      gap: 12px;\n",
              "    }\n",
              "\n",
              "    .colab-df-convert {\n",
              "      background-color: #E8F0FE;\n",
              "      border: none;\n",
              "      border-radius: 50%;\n",
              "      cursor: pointer;\n",
              "      display: none;\n",
              "      fill: #1967D2;\n",
              "      height: 32px;\n",
              "      padding: 0 0 0 0;\n",
              "      width: 32px;\n",
              "    }\n",
              "\n",
              "    .colab-df-convert:hover {\n",
              "      background-color: #E2EBFA;\n",
              "      box-shadow: 0px 1px 2px rgba(60, 64, 67, 0.3), 0px 1px 3px 1px rgba(60, 64, 67, 0.15);\n",
              "      fill: #174EA6;\n",
              "    }\n",
              "\n",
              "    [theme=dark] .colab-df-convert {\n",
              "      background-color: #3B4455;\n",
              "      fill: #D2E3FC;\n",
              "    }\n",
              "\n",
              "    [theme=dark] .colab-df-convert:hover {\n",
              "      background-color: #434B5C;\n",
              "      box-shadow: 0px 1px 3px 1px rgba(0, 0, 0, 0.15);\n",
              "      filter: drop-shadow(0px 1px 2px rgba(0, 0, 0, 0.3));\n",
              "      fill: #FFFFFF;\n",
              "    }\n",
              "  </style>\n",
              "\n",
              "      <script>\n",
              "        const buttonEl =\n",
              "          document.querySelector('#df-eb86471e-e0ee-4d01-9459-55df13052565 button.colab-df-convert');\n",
              "        buttonEl.style.display =\n",
              "          google.colab.kernel.accessAllowed ? 'block' : 'none';\n",
              "\n",
              "        async function convertToInteractive(key) {\n",
              "          const element = document.querySelector('#df-eb86471e-e0ee-4d01-9459-55df13052565');\n",
              "          const dataTable =\n",
              "            await google.colab.kernel.invokeFunction('convertToInteractive',\n",
              "                                                     [key], {});\n",
              "          if (!dataTable) return;\n",
              "\n",
              "          const docLinkHtml = 'Like what you see? Visit the ' +\n",
              "            '<a target=\"_blank\" href=https://colab.research.google.com/notebooks/data_table.ipynb>data table notebook</a>'\n",
              "            + ' to learn more about interactive tables.';\n",
              "          element.innerHTML = '';\n",
              "          dataTable['output_type'] = 'display_data';\n",
              "          await google.colab.output.renderOutput(dataTable, element);\n",
              "          const docLink = document.createElement('div');\n",
              "          docLink.innerHTML = docLinkHtml;\n",
              "          element.appendChild(docLink);\n",
              "        }\n",
              "      </script>\n",
              "    </div>\n",
              "  </div>\n",
              "  "
            ]
          },
          "metadata": {},
          "execution_count": 18
        }
      ]
    },
    {
      "cell_type": "code",
      "source": [
        "data = data[[\"G1\", \"G2\", \"G3\", \"studytime\", \"failures\", \"absences\"]]"
      ],
      "metadata": {
        "id": "EsKRdlWKd3Sy"
      },
      "execution_count": null,
      "outputs": []
    },
    {
      "cell_type": "code",
      "source": [
        "# All data needs to be integer to use prediction\n",
        "data.info()"
      ],
      "metadata": {
        "colab": {
          "base_uri": "https://localhost:8080/"
        },
        "id": "MFntKPwreSwp",
        "outputId": "886196ea-e656-4efe-e280-3da986e1a48d"
      },
      "execution_count": null,
      "outputs": [
        {
          "output_type": "stream",
          "name": "stdout",
          "text": [
            "<class 'pandas.core.frame.DataFrame'>\n",
            "RangeIndex: 395 entries, 0 to 394\n",
            "Data columns (total 6 columns):\n",
            " #   Column     Non-Null Count  Dtype\n",
            "---  ------     --------------  -----\n",
            " 0   G1         395 non-null    int64\n",
            " 1   G2         395 non-null    int64\n",
            " 2   G3         395 non-null    int64\n",
            " 3   studytime  395 non-null    int64\n",
            " 4   failures   395 non-null    int64\n",
            " 5   absences   395 non-null    int64\n",
            "dtypes: int64(6)\n",
            "memory usage: 18.6 KB\n"
          ]
        }
      ]
    },
    {
      "cell_type": "code",
      "source": [
        "predict = 'G3'\n",
        "\n",
        "x = np.array(data.drop([predict], 1))\n",
        "y = np.array(data[predict])"
      ],
      "metadata": {
        "colab": {
          "base_uri": "https://localhost:8080/"
        },
        "id": "m8P-X1lXeWY0",
        "outputId": "a7339cb4-393e-464c-d2a5-4d3c485e6812"
      },
      "execution_count": null,
      "outputs": [
        {
          "output_type": "stream",
          "name": "stderr",
          "text": [
            "<ipython-input-21-8f8bcdb649f1>:3: FutureWarning: In a future version of pandas all arguments of DataFrame.drop except for the argument 'labels' will be keyword-only\n",
            "  x = np.array(data.drop([predict], 1))\n"
          ]
        }
      ]
    },
    {
      "cell_type": "code",
      "source": [
        "x_train, x_test, y_train, y_test = sklearn.model_selection.train_test_split(x, y, test_size=0.1)"
      ],
      "metadata": {
        "id": "EBYppsm6fFrg"
      },
      "execution_count": null,
      "outputs": []
    },
    {
      "cell_type": "code",
      "source": [
        "# TRAIN MODEL MULTIPLE TIMES FOR BEST SCORE\n",
        "best = 0\n",
        "for _ in range(20):\n",
        "    x_train, x_test, y_train, y_test = sklearn.model_selection.train_test_split(x, y, test_size=0.1)\n",
        "\n",
        "    linear = linear_model.LinearRegression()\n",
        "\n",
        "    linear.fit(x_train, y_train)\n",
        "    acc = linear.score(x_test, y_test)\n",
        "    print(\"Accuracy: \" + str(acc))\n",
        "    \n",
        "    # If the current model has a better score than one we've already trained then save it\n",
        "    if acc > best:\n",
        "        best = acc\n",
        "        with open(\"studentgrades.pickle\", \"wb\") as f:\n",
        "            pickle.dump(linear, f)"
      ],
      "metadata": {
        "colab": {
          "base_uri": "https://localhost:8080/"
        },
        "id": "xYOtmEViKPwe",
        "outputId": "e8e971e4-7ca3-4fba-c97d-a5cb9715f478"
      },
      "execution_count": null,
      "outputs": [
        {
          "output_type": "stream",
          "name": "stdout",
          "text": [
            "Accuracy: 0.814785718154854\n",
            "Accuracy: 0.766559401119066\n",
            "Accuracy: 0.9325995128126761\n",
            "Accuracy: 0.8300046030759101\n",
            "Accuracy: 0.8540882957956673\n",
            "Accuracy: 0.7599185023620457\n",
            "Accuracy: 0.8724298504931861\n",
            "Accuracy: 0.7329248181395633\n",
            "Accuracy: 0.8016789401706983\n",
            "Accuracy: 0.8766335333870559\n",
            "Accuracy: 0.8992178645940061\n",
            "Accuracy: 0.7564598120331963\n",
            "Accuracy: 0.9504527844819486\n",
            "Accuracy: 0.9238350290917811\n",
            "Accuracy: 0.9077599033857696\n",
            "Accuracy: 0.915161113463853\n",
            "Accuracy: 0.8253029908866194\n",
            "Accuracy: 0.9408767958092412\n",
            "Accuracy: 0.7163276208809797\n",
            "Accuracy: 0.8000032581927928\n"
          ]
        }
      ]
    },
    {
      "cell_type": "code",
      "source": [
        "# How to save a model into afile\n",
        "\n",
        "with open('studentmodel.pickle', 'wb') as f:\n",
        "  pickle.dump(linear, f)\n",
        "\n",
        "# Loading model\n",
        "pickle_in = open(\"studentmodel.pickle\", \"rb\")\n",
        "linear = pickle.load(pickle_in)\n"
      ],
      "metadata": {
        "id": "P5vIQfvjcAqN"
      },
      "execution_count": null,
      "outputs": []
    },
    {
      "cell_type": "code",
      "source": [
        "print('Coefficient: \\n', linear.coef_)\n",
        "print('Intercept: \\n', linear.intercept_)"
      ],
      "metadata": {
        "colab": {
          "base_uri": "https://localhost:8080/"
        },
        "id": "NPdWX5HJM2X2",
        "outputId": "e44be8bf-13e9-4941-ba09-e6a299d7495e"
      },
      "execution_count": null,
      "outputs": [
        {
          "output_type": "stream",
          "name": "stdout",
          "text": [
            "Coefficient: \n",
            " [ 0.1476131   0.98026045 -0.22824473 -0.3231986   0.04746759]\n",
            "Intercept: \n",
            " -1.424604493305468\n"
          ]
        }
      ]
    },
    {
      "cell_type": "code",
      "source": [
        "predictions = linear.predict(x_test)\n",
        "\n",
        "for x in range(len(predictions)):\n",
        "    print(predictions[x], x_test[x], y_test[x])"
      ],
      "metadata": {
        "colab": {
          "base_uri": "https://localhost:8080/"
        },
        "id": "piy1DGe5N9CL",
        "outputId": "ff359214-d21a-4b3b-9270-7e4f0d1ca3e9"
      },
      "execution_count": null,
      "outputs": [
        {
          "output_type": "stream",
          "name": "stdout",
          "text": [
            "8.284071536915421 [10  9  3  0  2] 10\n",
            "9.506880258551023 [11 10  3  0  4] 11\n",
            "10.715385429422465 [11 11  2  0  4] 11\n",
            "7.160080857572584 [ 8  8  4  0 10] 8\n",
            "19.913940608414876 [18 19  1  0  6] 19\n",
            "9.587511881674905 [10 10  2  0  4] 11\n",
            "10.5615691553562 [13 10  2  1 22] 11\n",
            "8.350399609275147 [8 9 1 0 0] 8\n",
            "12.728584249017773 [12 13  2  0  2] 12\n",
            "12.85147311790596 [10 13  1  0  6] 13\n",
            "8.794166771859958 [ 8  8  1  0 30] 8\n",
            "12.222999672722187 [12 12  2  0 12] 11\n",
            "13.536860699841101 [14 13  1  0  8] 13\n",
            "15.184622374648407 [16 15  2  0  0] 15\n",
            "5.785757467197788 [7 7 2 1 2] 7\n",
            "12.472385828881967 [14 13  4  0  0] 14\n",
            "6.161633992667918 [8 7 2 0 0] 8\n",
            "7.163663659672052 [ 9  7  2  0 18] 6\n",
            "8.649508681703423 [9 9 2 0 8] 9\n",
            "11.976568528417646 [12 12  1  0  2] 14\n",
            "5.499343104776115 [7 6 1 0 5] 7\n",
            "13.717937904337996 [12 14  3  0  7] 14\n",
            "19.028615336567135 [18 18  1  0  8] 18\n",
            "11.867983210293618 [15 12  3  0  0] 14\n",
            "8.379006710803461 [10  9  3  0  4] 9\n",
            "9.37192446990046 [11  9  1  1 19] 10\n",
            "11.977450108964529 [10  9  2  0 75] 9\n",
            "18.12540371185576 [16 18  2  0  0] 18\n",
            "9.292285677651353 [ 8 10  2  0  4] 10\n",
            "6.4954785453882256 [8 8 1 3 2] 10\n",
            "9.520530402787012 [ 8 10  1  0  4] 10\n",
            "3.810933024962063 [6 5 1 1 0] 0\n",
            "8.312025231915568 [8 9 2 0 4] 10\n",
            "10.153240056598419 [11 10  1  0  8] 10\n",
            "13.023810453041325 [14 13  2  0  2] 13\n",
            "5.8664077886443655 [6 7 2 0 0] 0\n",
            "13.842154246001176 [12 14  1  0  0] 15\n",
            "13.989767348012952 [13 14  1  0  0] 14\n",
            "7.0085848871560845 [8 8 3 0 2] 10\n",
            "5.785776165520483 [7 7 3 0 0] 8\n"
          ]
        }
      ]
    },
    {
      "cell_type": "code",
      "source": [
        "# Drawing and plotting model\n",
        "plot = \"failures\" # Change this to G1, G2, studytime or absences to see other graphs\n",
        "plt.scatter(data[plot], data[\"G3\"]) \n",
        "plt.legend(loc=4)\n",
        "plt.xlabel(plot)\n",
        "plt.ylabel(\"Final Grade\")\n",
        "plt.show()"
      ],
      "metadata": {
        "colab": {
          "base_uri": "https://localhost:8080/",
          "height": 296
        },
        "id": "QST_VgESe_HH",
        "outputId": "0c4e1e3c-9be1-4c2a-ae6e-695271f66ad7"
      },
      "execution_count": null,
      "outputs": [
        {
          "output_type": "stream",
          "name": "stderr",
          "text": [
            "WARNING:matplotlib.legend:No handles with labels found to put in legend.\n"
          ]
        },
        {
          "output_type": "display_data",
          "data": {
            "text/plain": [
              "<Figure size 432x288 with 1 Axes>"
            ],
            "image/png": "[encoded data removed]"
          },
          "metadata": {
            "needs_background": "light"
          }
        }
      ]
    },
    {
      "cell_type": "code",
      "source": [],
      "metadata": {
        "id": "iTO5RxKOe_rm"
      },
      "execution_count": null,
      "outputs": []
    }
  ]
}